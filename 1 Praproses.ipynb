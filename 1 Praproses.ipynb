{
 "cells": [
  {
   "cell_type": "code",
   "execution_count": 11,
   "metadata": {},
   "outputs": [],
   "source": [
    "import sys\n",
    "sys.path.append('D:\\github\\python') #Alamat PC\n",
    "# import re, string, unicodedata\n",
    "# from unidecode import unidecode\n",
    "import pandas as pd\n",
    "import xlsxwriter\n",
    "import re\n",
    "import time\n",
    "import numpy as np\n",
    "# from Modul.modulku import praproses as pps\n",
    "from Cek_typo import cek_typo as ct\n",
    "from Normalisasi_KBBI import normalisasi_kbbi as nkbi\n",
    "from modulku import praproses as pps\n",
    "from modulku import StemNstopW as stm"
   ]
  },
  {
   "cell_type": "code",
   "execution_count": 9,
   "metadata": {},
   "outputs": [
    {
     "data": {
      "text/html": [
       "<div>\n",
       "<style scoped>\n",
       "    .dataframe tbody tr th:only-of-type {\n",
       "        vertical-align: middle;\n",
       "    }\n",
       "\n",
       "    .dataframe tbody tr th {\n",
       "        vertical-align: top;\n",
       "    }\n",
       "\n",
       "    .dataframe thead th {\n",
       "        text-align: right;\n",
       "    }\n",
       "</style>\n",
       "<table border=\"1\" class=\"dataframe\">\n",
       "  <thead>\n",
       "    <tr style=\"text-align: right;\">\n",
       "      <th></th>\n",
       "      <th>Column1</th>\n",
       "      <th>rand</th>\n",
       "      <th>label</th>\n",
       "      <th>komentar</th>\n",
       "    </tr>\n",
       "  </thead>\n",
       "  <tbody>\n",
       "    <tr>\n",
       "      <th>0</th>\n",
       "      <td>0</td>\n",
       "      <td>128</td>\n",
       "      <td>non spam</td>\n",
       "      <td>waduh marai pengen ae mbak via ni.....kirim ke...</td>\n",
       "    </tr>\n",
       "    <tr>\n",
       "      <th>1</th>\n",
       "      <td>1</td>\n",
       "      <td>191</td>\n",
       "      <td>spam</td>\n",
       "      <td>@nabela_yevi_vie awass dia akun adu domba min ...</td>\n",
       "    </tr>\n",
       "    <tr>\n",
       "      <th>2</th>\n",
       "      <td>2</td>\n",
       "      <td>895</td>\n",
       "      <td>non spam</td>\n",
       "      <td>Ya begini kalo ga biasa lipsing,  sekali lipsi...</td>\n",
       "    </tr>\n",
       "    <tr>\n",
       "      <th>3</th>\n",
       "      <td>3</td>\n",
       "      <td>13</td>\n",
       "      <td>non spam</td>\n",
       "      <td>nitijen mha bebar bkin mlu2 ajh, kliaan bisa a...</td>\n",
       "    </tr>\n",
       "    <tr>\n",
       "      <th>4</th>\n",
       "      <td>4</td>\n",
       "      <td>199</td>\n",
       "      <td>spam</td>\n",
       "      <td>Mãàñtáááp bäNGGééèt kåãk §ètéłãâh åkûü Pâkêë p...</td>\n",
       "    </tr>\n",
       "  </tbody>\n",
       "</table>\n",
       "</div>"
      ],
      "text/plain": [
       "   Column1  rand     label                                           komentar\n",
       "0        0   128  non spam  waduh marai pengen ae mbak via ni.....kirim ke...\n",
       "1        1   191      spam  @nabela_yevi_vie awass dia akun adu domba min ...\n",
       "2        2   895  non spam  Ya begini kalo ga biasa lipsing,  sekali lipsi...\n",
       "3        3    13  non spam  nitijen mha bebar bkin mlu2 ajh, kliaan bisa a...\n",
       "4        4   199      spam  Mãàñtáááp bäNGGééèt kåãk §ètéłãâh åkûü Pâkêë p..."
      ]
     },
     "execution_count": 9,
     "metadata": {},
     "output_type": "execute_result"
    }
   ],
   "source": [
    "data = pd.read_excel('data/Dataset_Siap_3800_px.xlsx', sheet_name = \"Sheet1\")\n",
    "komentar = data['komentar']\n",
    "label = data[\"label\"].tolist()\n",
    "data.head()"
   ]
  },
  {
   "cell_type": "code",
   "execution_count": 12,
   "metadata": {},
   "outputs": [
    {
     "name": "stdout",
     "output_type": "stream",
     "text": [
      ".....50.....100.....150.....200.....250.....300.....350.....400.....450.....500.....550.....600.....650.....700.....750.....800.....850.....900.....950.....1000.....1050.....1100.....1150.....1200.....1250.....1300.....1350.....1400.....1450.....1500.....1550.....1600.....1650.....1700.....1750.....1800.....1850.....1900.....1950.....2000.....2050.....2100.....2150.....2200.....2250.....2300.....2350.....2400.....2450.....2500.....2550.....2600.....2650.....2700.....2750.....2800.....2850.....2900.....2950.....3000.....3050.....3100.....3150.....3200.....3250.....3300.....3350.....3400.....3450.....3500.....3550.....3600.....3650.....3700.....3750.....3800"
     ]
    }
   ],
   "source": [
    "n_komentar = []\n",
    "ixx = 1\n",
    "oo = 0\n",
    "for teks in komentar:\n",
    "    a = teks\n",
    "    a = pps.preprocessing(a)\n",
    "    a = pps.removePunc(a)\n",
    "    a = ct.norm_typo(a)\n",
    "    a = nkbi.norm_kbbi(a)\n",
    "    a = stm.stemmer_kata(a)\n",
    "    a = stm.stop_word(a)\n",
    "    n_komentar.append(a)\n",
    "    if ixx%10==0:\n",
    "        #oo+=1\n",
    "        print(\".\", end =\"\")\n",
    "    if ixx%50==0:\n",
    "        print(ixx, end=\"\")\n",
    "    ixx+=1"
   ]
  },
  {
   "cell_type": "code",
   "execution_count": 13,
   "metadata": {},
   "outputs": [],
   "source": [
    "dictionarrry = {\n",
    "    \"label\":label,\n",
    "    \"komentar\":n_komentar}\n",
    "df = pd.DataFrame.from_dict(dictionarrry)\n",
    "df.to_excel(\"data_latih/dataset_bersih.xlsx\")"
   ]
  }
 ],
 "metadata": {
  "kernelspec": {
   "display_name": "Python 3",
   "language": "python",
   "name": "python3"
  },
  "language_info": {
   "codemirror_mode": {
    "name": "ipython",
    "version": 3
   },
   "file_extension": ".py",
   "mimetype": "text/x-python",
   "name": "python",
   "nbconvert_exporter": "python",
   "pygments_lexer": "ipython3",
   "version": "3.7.3"
  }
 },
 "nbformat": 4,
 "nbformat_minor": 2
}
